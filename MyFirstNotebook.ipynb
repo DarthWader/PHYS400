{
 "metadata": {
  "name": "MyFirstNotebook"
 }, 
 "nbformat": 2, 
 "worksheets": [
  {
   "cells": [
    {
     "cell_type": "code", 
     "collapsed": true, 
     "input": [
      "In [1]: a = rand(100)", 
      "In [2]: plot(a)"
     ], 
     "language": "python", 
     "outputs": [], 
     "prompt_number": "&nbsp;"
    }
   ]
  }
 ]
}