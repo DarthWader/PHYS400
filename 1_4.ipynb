{
 "metadata": {
  "name": "1_4"
 }, 
 "nbformat": 2, 
 "worksheets": [
  {
   "cells": [
    {
     "cell_type": "code", 
     "collapsed": false, 
     "input": [
      "d = 10/1.61", 
      "t = 43.5/60", 
      "", 
      "mph = t/d", 
      "tpm = d/t", 
      "print t", 
      "print d", 
      "print tpm", 
      "print mph"
     ], 
     "language": "python", 
     "outputs": [
      {
       "output_type": "stream", 
       "stream": "stdout", 
       "text": [
        "0.725", 
        "6.21118012422", 
        "0.0023797624997", 
        "0.0"
       ]
      }
     ], 
     "prompt_number": 8
    }, 
    {
     "cell_type": "code", 
     "collapsed": true, 
     "input": [], 
     "language": "python", 
     "outputs": [], 
     "prompt_number": "&nbsp;"
    }
   ]
  }
 ]
}